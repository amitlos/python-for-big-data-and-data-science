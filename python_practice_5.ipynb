{
  "nbformat": 4,
  "nbformat_minor": 0,
  "metadata": {
    "colab": {
      "provenance": []
    },
    "kernelspec": {
      "name": "python3",
      "display_name": "Python 3"
    },
    "language_info": {
      "name": "python"
    }
  },
  "cells": [
    {
      "cell_type": "markdown",
      "source": [
        "# I. OOP"
      ],
      "metadata": {
        "id": "5qV_sehzFCTp"
      }
    },
    {
      "cell_type": "markdown",
      "source": [
        "1. (6б). Створіть клас Animal, додайте три атрибути, один з яких має значення за замовчуванням та два методи на свій розсуд."
      ],
      "metadata": {
        "id": "tx_U_hOALyfg"
      }
    },
    {
      "cell_type": "code",
      "source": [
        "class Animal:\n",
        "\n",
        "    def __init__(self, name, kind, price=1000):\n",
        "        self._name = name\n",
        "        self._kind = kind\n",
        "        self._price = price\n",
        "\n",
        "    def getDesc(self, zooName):\n",
        "        return f\"Animal with name {self._name} lives in \\\"{zooName}\\\" zoo.\"\n",
        "\n",
        "    def ofTheSameKind(self, animal):\n",
        "        return self._kind == animal._kind\n"
      ],
      "metadata": {
        "id": "-Vf895KaL88N"
      },
      "execution_count": 10,
      "outputs": []
    },
    {
      "cell_type": "markdown",
      "source": [],
      "metadata": {
        "id": "AWIjgQeYUViF"
      }
    },
    {
      "cell_type": "markdown",
      "source": [
        "2. (2б). Створіть два обʼєкти цього класу, де один з обʼєктів створюється із дефолтним значенням атрибуту. На одному обʼєкті отримайте значення його атрибуту, а на іншому викличте один з його методів."
      ],
      "metadata": {
        "id": "X_UlOMB0L93w"
      }
    },
    {
      "cell_type": "code",
      "source": [
        "a1 = Animal(\"Joe\", \"Dog\", 100)\n",
        "a2 = Animal(\"Garfield\", \"Cat\")\n",
        "\n",
        "print(a2._name)\n",
        "print(a1.getDesc(\"Kyiv`s Zoo\"))"
      ],
      "metadata": {
        "id": "7gBu0ESOMCpG",
        "colab": {
          "base_uri": "https://localhost:8080/"
        },
        "outputId": "826c386f-551b-490d-f397-61173d512d30"
      },
      "execution_count": 11,
      "outputs": [
        {
          "output_type": "stream",
          "name": "stdout",
          "text": [
            "Garfield\n",
            "Animal with name Joe lives in \"Kyiv`s Zoo\" zoo.\n"
          ]
        }
      ]
    },
    {
      "cell_type": "markdown",
      "source": [
        "3. (5б). Створіть клас, де атрибути мають різні рівні доступу. Спробуйте отримати їхні значення та опишіть результати."
      ],
      "metadata": {
        "id": "HoqSCZt1MHn5"
      }
    },
    {
      "cell_type": "code",
      "source": [
        "# Obviously, in Python there are no such things as private members of the class.\n",
        "# There are only common conventions(for ex. var of class defined with name like '_attname' would mean this is private, but there is no restriction to change it directly) and\n",
        "# some \"Python things\" such as implicitly changing name of the attribute with another(__attname => _className__attname),\n",
        "# so user would not have access to variable unless he knows it happens.\n",
        "class Student:\n",
        "    def __init__(self, name, family, faculty, year = 1):\n",
        "        self.name = name\n",
        "        self.family = family\n",
        "        self._faculty = faculty\n",
        "        self.__year = year\n",
        "\n",
        "student = Student(\"Volodymyr\", \"Zelenskii\", \"Political Sciences\", 6)\n",
        "print(student.name)\n",
        "print(student._faculty)\n",
        "print(student.__year)               # this gives an error. But ...\n",
        "\n",
        "# magic... we could do this:\n",
        "#print(student._Student__year)"
      ],
      "metadata": {
        "id": "r9b3vJxBMSPV",
        "colab": {
          "base_uri": "https://localhost:8080/"
        },
        "outputId": "31e7e75a-b78a-4705-98f5-15bc7809c798"
      },
      "execution_count": 18,
      "outputs": [
        {
          "output_type": "stream",
          "name": "stdout",
          "text": [
            "Volodymyr\n",
            "Political Sciences\n",
            "6\n"
          ]
        }
      ]
    },
    {
      "cell_type": "markdown",
      "source": [
        "4. (7б). Як ви розумієте термін self? Для чого використовується метод __init __?\n",
        "\n",
        "---\n",
        "\n"
      ],
      "metadata": {
        "id": "5op2m2vgMSkZ"
      }
    },
    {
      "cell_type": "markdown",
      "source": [
        "self - це указник на об'єкт, який був використаний для виклику методу класу, і який передається як параметр з таким ім'ям у цей метод.\n",
        "__init__ - це свого роду конструктор об'єкту класу - тут визначаються та ініціалізовуються певними значеннями атрибути класу.  "
      ],
      "metadata": {
        "id": "DyiPqNRvMasx"
      }
    },
    {
      "cell_type": "markdown",
      "source": [
        "5. (9б). Створіть клас Фігура без атрибутів, з методом get_area для отримання площі фігури, що повертає 0 та __add __, який приймає self та other в якості аргументів, а повертає суму площин фігур self та other."
      ],
      "metadata": {
        "id": "-6X8EGfjMd2y"
      }
    },
    {
      "cell_type": "code",
      "source": [
        "class Shape:\n",
        "\n",
        "    def get_area(self):\n",
        "        return 0\n",
        "\n",
        "    def __add__(self, other):\n",
        "        return self.get_area() + other.get_area()"
      ],
      "metadata": {
        "id": "4rvO_wYUMaEr"
      },
      "execution_count": 20,
      "outputs": []
    },
    {
      "cell_type": "markdown",
      "source": [
        "6. (11б). Створіть 2 дочірніх класи від Фігури: Трикутник та Коло, які мають атрибути, необхідні для розрахунку площин. Визначте метод get_area в кожному з них так, щоби вони розраховували площу в залежності від формули для кожного типу фігури. Створіть обʼєкт класу Трикутник та обʼєкт класу Коло. Виконайте операцію суми за допомогою оператора + між ними."
      ],
      "metadata": {
        "id": "SFcKnnv5Mo_z"
      }
    },
    {
      "cell_type": "code",
      "source": [
        "class Triangle(Shape):\n",
        "\n",
        "    def __init__(self, sidel, heightl):\n",
        "        self.sidel = sidel\n",
        "        self.heightl = heightl\n",
        "\n",
        "    def get_area(self):\n",
        "        return self.sidel * self.heightl * 0.5\n",
        "\n",
        "class Circle(Shape):\n",
        "\n",
        "    pi = 3.14157\n",
        "\n",
        "    def __init__(self, radius):\n",
        "        self.radius = radius\n",
        "\n",
        "    def get_area(self):\n",
        "        return Circle.pi * self.radius * self.radius\n",
        "\n",
        "\n",
        "circle = Circle(2.0)\n",
        "triangle = Triangle(5.0, 2.0)\n",
        "\n",
        "circle + triangle"
      ],
      "metadata": {
        "id": "H3GVNr69Muf3",
        "colab": {
          "base_uri": "https://localhost:8080/"
        },
        "outputId": "e04896b0-d68d-47a5-9e46-7f5a08463d9c"
      },
      "execution_count": 23,
      "outputs": [
        {
          "output_type": "execute_result",
          "data": {
            "text/plain": [
              "17.56628"
            ]
          },
          "metadata": {},
          "execution_count": 23
        }
      ]
    },
    {
      "cell_type": "markdown",
      "source": [
        "7. (3б). Продемонструйте різницю між isinstance та issubclass."
      ],
      "metadata": {
        "id": "HCvR206YMvLK"
      }
    },
    {
      "cell_type": "code",
      "source": [
        "varbool = True\n",
        "\n",
        "print(isinstance(varbool, int))\n",
        "print(issubclass(bool, int))\n"
      ],
      "metadata": {
        "id": "L_V1bBvDM0GN",
        "colab": {
          "base_uri": "https://localhost:8080/"
        },
        "outputId": "0745fbf1-41e0-4ed3-e7c3-81bd44d6b588"
      },
      "execution_count": 27,
      "outputs": [
        {
          "output_type": "stream",
          "name": "stdout",
          "text": [
            "True\n",
            "True\n"
          ]
        }
      ]
    },
    {
      "cell_type": "markdown",
      "source": [
        "8. (13б). Створіть клас BankAccount з приватними атрибутами balance та\n",
        "\n",
        "---\n",
        "\n",
        "account_number. Реалізуйте методи поповнення та зняття коштів, забезпечивши належну інкапсуляцію. Підказка: використовуйте декоратори property та setter."
      ],
      "metadata": {
        "id": "jjsaBZ-iM0Qq"
      }
    },
    {
      "cell_type": "code",
      "source": [
        "class BankAccount:\n",
        "\n",
        "    def __init__(self, balance, account_number):\n",
        "        self._balance = balance\n",
        "        self._account_number = account_number\n",
        "\n",
        "    @property\n",
        "    def balance(self):\n",
        "        return self._balance\n",
        "\n",
        "    @property\n",
        "    def account_number(self):\n",
        "        return self._account_number\n",
        "\n",
        "\n",
        "    @balance.setter\n",
        "    def balance(self, newbalance):\n",
        "        if newbalance < 0 or (not isinstance(newbalance, float)):\n",
        "            print(\"Balance value should be above 0 and have float type.\")\n",
        "            return\n",
        "        self._balance = newbalance\n",
        "\n",
        "    @account_number.setter\n",
        "    def account_number(self, newid):\n",
        "        if newid < 0 or (not isinstance(newid, int)):\n",
        "            print(\"Account Number should be above 0 and have integer type.\")\n",
        "            return\n",
        "        self._account_number = newid\n",
        "\n",
        "\n",
        "    def withdraw(self, amount):\n",
        "        if amount > self._balance:\n",
        "            print(\"Not enough money to end withdraw operation.\")\n",
        "            return\n",
        "\n",
        "        if amount < 0:\n",
        "            print(\"Cannot be withdrawn a negative amount of money.\")\n",
        "            return\n",
        "\n",
        "        self._balance -= amount\n",
        "        return\n",
        "\n",
        "    def topup(self, amount):\n",
        "        if amount < 0:\n",
        "            print(\"Cannot be toped up by negative amount of money.\")\n",
        "            return\n",
        "        self._balance += amount\n",
        "\n",
        "\n"
      ],
      "metadata": {
        "id": "xCvZ7lh8M7YA"
      },
      "execution_count": 46,
      "outputs": []
    },
    {
      "cell_type": "code",
      "source": [
        "#some testing\n",
        "account = BankAccount(1000.0, 1)\n",
        "print(account.balance)\n",
        "print(account.account_number)\n",
        "account.balance = 500.0\n",
        "print(account.balance)\n",
        "account.withdraw(501.0)\n",
        "print(account.balance)\n",
        "account.topup(-10)\n",
        "print(account.balance)\n"
      ],
      "metadata": {
        "colab": {
          "base_uri": "https://localhost:8080/"
        },
        "id": "rIJuG95wwNhM",
        "outputId": "bb914cb6-bbf1-4e31-f851-ae27d6b6d282"
      },
      "execution_count": 48,
      "outputs": [
        {
          "output_type": "stream",
          "name": "stdout",
          "text": [
            "1000.0\n",
            "1\n",
            "500.0\n",
            "Not enough money to end withdraw operation.\n",
            "500.0\n",
            "Cannot be toped up by negative amount of money.\n",
            "500.0\n"
          ]
        }
      ]
    },
    {
      "cell_type": "markdown",
      "source": [
        "9. (11б). Створіть клас Library, який містить список об'єктів типу Book. Реалізуйте методи для додавання книги, видалення книги та відображення списку книг."
      ],
      "metadata": {
        "id": "tIzL2SJTM8ft"
      }
    },
    {
      "cell_type": "code",
      "source": [
        "class Book:\n",
        "\n",
        "    def __init__(self, name, author, year, price):\n",
        "        self.name = name\n",
        "        self.author = author\n",
        "        self.year = year\n",
        "        self._price = price\n",
        "\n",
        "    @property\n",
        "    def price(self):\n",
        "        return self._price\n",
        "\n",
        "    @price.setter\n",
        "    def price(self, newprice):\n",
        "        if newprice < 0:\n",
        "            print(\"Price of the book cannot be negative.\")\n",
        "            return\n",
        "\n",
        "        self._price = newprice\n",
        "\n",
        "    def __repr__(self):\n",
        "        return f\"\\'{self.name}\\' by {self.author}, {self.year} - {self._price}$\"\n",
        "\n",
        "\n",
        "class Library:\n",
        "\n",
        "    def __init__(self, books=[]):\n",
        "        self._books = books\n",
        "\n",
        "    def getAmount(self):\n",
        "        return len(self._books)\n",
        "\n",
        "    def addBook(self, book):\n",
        "        if isinstance(book, Book):\n",
        "            self._books.append(book)\n",
        "        return\n",
        "\n",
        "    def deletePosition(self, index):\n",
        "        if index < 0 or index >= len(self._books):\n",
        "            print(\"Index value is not valid.\")\n",
        "            return\n",
        "\n",
        "        del self._books[index]\n",
        "\n",
        "    def deleteBook(self, book):\n",
        "        self._books.remove(book)\n",
        "\n",
        "    def __repr__(self):\n",
        "        return \"There are such books in the library:\\n~ \" + \"\\n~ \".join([str(book) for book in self._books])\n",
        "\n"
      ],
      "metadata": {
        "id": "HWxfJKLtNAUZ"
      },
      "execution_count": 67,
      "outputs": []
    },
    {
      "cell_type": "code",
      "source": [
        "b1 = Book(\"Harry Potter\", \"Joanne Rowling\", 2000, 30)\n",
        "b2 = Book(\"1984\", \"George Orwell\", 1984, 23)\n",
        "b3 = Book(\"Brave New World\", \"Oldos Hackley\", 1990, 33)\n",
        "b4 = Book(\"Solaris\", \"Stanislav Lem\", 1991, 22)\n",
        "b5 = Book(\"I, Robot\", \"Aisek Azimov\", 1997, 34)\n",
        "b6 = Book(\"Financier\", \"Theodore Dreiser\", 1980, 33)\n",
        "\n",
        "books = [b1, b2, b3, b4, b5, b6]\n",
        "\n",
        "lib = Library(books)\n",
        "\n",
        "print(lib)\n",
        "\n",
        "lib.addBook(Book(\"Stoic\", \"Theodore Dreiser\", 1985, 36))\n",
        "\n",
        "print(lib)\n",
        "\n",
        "lib.deletePosition(0)\n",
        "\n",
        "print(lib)\n",
        "\n",
        "lib.deleteBook(b2)\n",
        "\n",
        "print(lib)"
      ],
      "metadata": {
        "colab": {
          "base_uri": "https://localhost:8080/"
        },
        "id": "rnnkd8LI3lwt",
        "outputId": "b09dba0e-2aec-4c53-d51d-623f05f22805"
      },
      "execution_count": 68,
      "outputs": [
        {
          "output_type": "stream",
          "name": "stdout",
          "text": [
            "There are such books in the library:\n",
            "~ 'Harry Potter' by Joanne Rowling, 2000 - 30$\n",
            "~ '1984' by George Orwell, 1984 - 23$\n",
            "~ 'Brave New World' by Oldos Hackley, 1990 - 33$\n",
            "~ 'Solaris' by Stanislav Lem, 1991 - 22$\n",
            "~ 'I, Robot' by Aisek Azimov, 1997 - 34$\n",
            "~ 'Financier' by Theodore Dreiser, 1980 - 33$\n",
            "There are such books in the library:\n",
            "~ 'Harry Potter' by Joanne Rowling, 2000 - 30$\n",
            "~ '1984' by George Orwell, 1984 - 23$\n",
            "~ 'Brave New World' by Oldos Hackley, 1990 - 33$\n",
            "~ 'Solaris' by Stanislav Lem, 1991 - 22$\n",
            "~ 'I, Robot' by Aisek Azimov, 1997 - 34$\n",
            "~ 'Financier' by Theodore Dreiser, 1980 - 33$\n",
            "~ 'Stoic' by Theodore Dreiser, 1985 - 36$\n",
            "There are such books in the library:\n",
            "~ '1984' by George Orwell, 1984 - 23$\n",
            "~ 'Brave New World' by Oldos Hackley, 1990 - 33$\n",
            "~ 'Solaris' by Stanislav Lem, 1991 - 22$\n",
            "~ 'I, Robot' by Aisek Azimov, 1997 - 34$\n",
            "~ 'Financier' by Theodore Dreiser, 1980 - 33$\n",
            "~ 'Stoic' by Theodore Dreiser, 1985 - 36$\n",
            "There are such books in the library:\n",
            "~ 'Brave New World' by Oldos Hackley, 1990 - 33$\n",
            "~ 'Solaris' by Stanislav Lem, 1991 - 22$\n",
            "~ 'I, Robot' by Aisek Azimov, 1997 - 34$\n",
            "~ 'Financier' by Theodore Dreiser, 1980 - 33$\n",
            "~ 'Stoic' by Theodore Dreiser, 1985 - 36$\n"
          ]
        }
      ]
    },
    {
      "cell_type": "markdown",
      "source": [
        "10. (13б). Створіть клас Person з атрибутами name та age. Створіть ще один клас Employee з такими атрибутами, як department та salary. Створіть клас Manager, який успадковує обидва класи Person та Employee. Продемонструйте використання множинної спадковості, створивши обʼєкт класу Manager та отримавши mro для цього класу."
      ],
      "metadata": {
        "id": "lmV8pAwwNIqu"
      }
    },
    {
      "cell_type": "code",
      "source": [
        "class Person:\n",
        "    def __init__(self, name, age):\n",
        "        self.name = name\n",
        "        self.age = age\n",
        "\n",
        "class Employee:\n",
        "    def __init__(self, department, salary):\n",
        "        self.department = department\n",
        "        self.salary = salary\n",
        "\n",
        "class Manager(Person, Employee):\n",
        "    def __init__(self, name, age, department, salary):\n",
        "        Person.__init__(self, name, age)\n",
        "        Employee.__init__(self, department, salary)\n",
        "\n",
        "manager = Manager(\"Alice\", 40, \"IT\", 90000)\n",
        "\n",
        "mro = Manager.mro()\n",
        "\n",
        "mro\n"
      ],
      "metadata": {
        "id": "R49grKlWNPeN",
        "colab": {
          "base_uri": "https://localhost:8080/"
        },
        "outputId": "8943184f-6b3f-4fdd-c1e0-02187254ed79"
      },
      "execution_count": 69,
      "outputs": [
        {
          "output_type": "execute_result",
          "data": {
            "text/plain": [
              "[__main__.Manager, __main__.Person, __main__.Employee, object]"
            ]
          },
          "metadata": {},
          "execution_count": 69
        }
      ]
    },
    {
      "cell_type": "markdown",
      "source": [
        "# II. Iterator"
      ],
      "metadata": {
        "id": "dIJyUiNBFG8G"
      }
    },
    {
      "cell_type": "markdown",
      "source": [
        "11. (4б). Визначте рядок(str) з 4ма різними за значенням символами. Створіть ітератор на основі цього рядка. Викличте 5 разів функцію next на ітераторі, 4ри перших з них огорніть у ф-цію print()."
      ],
      "metadata": {
        "id": "13vsm0NyKIzL"
      }
    },
    {
      "cell_type": "code",
      "source": [
        "word = 'word'\n",
        "iterator = iter(word)\n",
        "print(next(iterator))\n",
        "print(next(iterator))\n",
        "print(next(iterator))\n",
        "print(next(iterator))\n",
        "next(iterator)\n"
      ],
      "metadata": {
        "id": "81ntabAkKuz-",
        "colab": {
          "base_uri": "https://localhost:8080/",
          "height": 245
        },
        "outputId": "a330be6f-691c-4caf-fa9a-30d22e03ddce"
      },
      "execution_count": 71,
      "outputs": [
        {
          "output_type": "stream",
          "name": "stdout",
          "text": [
            "w\n",
            "o\n",
            "r\n",
            "d\n"
          ]
        },
        {
          "output_type": "error",
          "ename": "StopIteration",
          "evalue": "",
          "traceback": [
            "\u001b[0;31m---------------------------------------------------------------------------\u001b[0m",
            "\u001b[0;31mStopIteration\u001b[0m                             Traceback (most recent call last)",
            "\u001b[0;32m<ipython-input-71-a9d53ed56bc5>\u001b[0m in \u001b[0;36m<cell line: 7>\u001b[0;34m()\u001b[0m\n\u001b[1;32m      5\u001b[0m \u001b[0mprint\u001b[0m\u001b[0;34m(\u001b[0m\u001b[0mnext\u001b[0m\u001b[0;34m(\u001b[0m\u001b[0miterator\u001b[0m\u001b[0;34m)\u001b[0m\u001b[0;34m)\u001b[0m\u001b[0;34m\u001b[0m\u001b[0;34m\u001b[0m\u001b[0m\n\u001b[1;32m      6\u001b[0m \u001b[0mprint\u001b[0m\u001b[0;34m(\u001b[0m\u001b[0mnext\u001b[0m\u001b[0;34m(\u001b[0m\u001b[0miterator\u001b[0m\u001b[0;34m)\u001b[0m\u001b[0;34m)\u001b[0m\u001b[0;34m\u001b[0m\u001b[0;34m\u001b[0m\u001b[0m\n\u001b[0;32m----> 7\u001b[0;31m \u001b[0mnext\u001b[0m\u001b[0;34m(\u001b[0m\u001b[0miterator\u001b[0m\u001b[0;34m)\u001b[0m\u001b[0;34m\u001b[0m\u001b[0;34m\u001b[0m\u001b[0m\n\u001b[0m",
            "\u001b[0;31mStopIteration\u001b[0m: "
          ]
        }
      ]
    },
    {
      "cell_type": "markdown",
      "source": [
        "А що якщо викликати цю ж функцію на рядку?"
      ],
      "metadata": {
        "id": "aekWHGXOLRsO"
      }
    },
    {
      "cell_type": "code",
      "source": [],
      "metadata": {
        "id": "mxATGsErLV1i"
      },
      "execution_count": null,
      "outputs": []
    },
    {
      "cell_type": "markdown",
      "source": [
        " 12. (5б). Опишіть своїми словами в одному реченні, як ви розумієте різницю між ітерабельними обʼєктами та ітераторами (можна на прикладі).\n",
        "\n",
        " Ітератор - це будь-який об'єкт який реалізовує метод next(). Ітерабельний об'єкт це той об'єкт, який при застосуванні до нього функції iter() повертає ітератор. Тобто ітерабельний = такий, що має ітератор."
      ],
      "metadata": {
        "id": "XwtMEopwJ4pH"
      }
    },
    {
      "cell_type": "markdown",
      "source": [
        "13. (11б). Створіть клас, що має визначений Iterator Protocol та при кожному виклику next повертає літери англійської абетки, поки вони не вичерпаються."
      ],
      "metadata": {
        "id": "E9qJWmNbK8Gl"
      }
    },
    {
      "cell_type": "code",
      "source": [
        "class Alphabet:\n",
        "    def __init__(self):\n",
        "        self._alphabet = [chr(i) for i in range(65, 91)]\n",
        "        self._index = -1\n",
        "\n",
        "    def __iter__(self):\n",
        "        return self\n",
        "\n",
        "    def __next__(self):\n",
        "        self._index += 1\n",
        "        if self._index >= len(self._alphabet):\n",
        "            raise StopIteration\n",
        "        return self._alphabet[self._index]\n",
        "\n",
        "\n",
        "alphabet = Alphabet()\n",
        "\n",
        "print(\"English Alphabet:\\n\")\n",
        "for letter in alphabet:\n",
        "    print(letter)\n",
        "\n",
        "print(\"The End.\")"
      ],
      "metadata": {
        "id": "cqx-g_RsLo6I",
        "colab": {
          "base_uri": "https://localhost:8080/"
        },
        "outputId": "5e0a69e1-e40e-4423-e07c-a9f0074d3b2d"
      },
      "execution_count": 76,
      "outputs": [
        {
          "output_type": "stream",
          "name": "stdout",
          "text": [
            "English Alphabet:\n",
            "\n",
            "A\n",
            "B\n",
            "C\n",
            "D\n",
            "E\n",
            "F\n",
            "G\n",
            "H\n",
            "I\n",
            "J\n",
            "K\n",
            "L\n",
            "M\n",
            "N\n",
            "O\n",
            "P\n",
            "Q\n",
            "R\n",
            "S\n",
            "T\n",
            "U\n",
            "V\n",
            "W\n",
            "X\n",
            "Y\n",
            "Z\n",
            "The End.\n"
          ]
        }
      ]
    },
    {
      "cell_type": "markdown",
      "source": [
        "# Вітаю! Ви велика(ий) молодець, що впоралась(вся). Похваліть себе та побалуйте чимось приємним. Я Вами пишаюся."
      ],
      "metadata": {
        "id": "Z3E3S_s1Fv7-"
      }
    }
  ]
}