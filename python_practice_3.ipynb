{
  "nbformat": 4,
  "nbformat_minor": 0,
  "metadata": {
    "colab": {
      "provenance": []
    },
    "kernelspec": {
      "name": "python3",
      "display_name": "Python 3"
    },
    "language_info": {
      "name": "python"
    }
  },
  "cells": [
    {
      "cell_type": "markdown",
      "source": [
        ":# I. Оператори порівняння та логічні оператори. Умови."
      ],
      "metadata": {
        "id": "qDEi2Pi-4yUC"
      }
    },
    {
      "cell_type": "markdown",
      "source": [
        "1. Створіть цілочисленну змінну зі своїм щасливим або улюбленим числом. Напишіть код, який би автоматизовував наступну задачу.\n",
        "\n",
        "Якщо число парне, помножте його на 2 та виведіть результат на екран.\n",
        "\n",
        "Але якщо число непарне, помножте його на 3 та додайте 1 і виведіть на екран."
      ],
      "metadata": {
        "id": "3v8D4Dkm43Ua"
      }
    },
    {
      "cell_type": "code",
      "execution_count": null,
      "metadata": {
        "id": "dlVjc-Nu4bmb",
        "colab": {
          "base_uri": "https://localhost:8080/"
        },
        "outputId": "7142642d-7a1a-4a62-d58d-bde8200f5b66"
      },
      "outputs": [
        {
          "output_type": "stream",
          "name": "stdout",
          "text": [
            "942478\n"
          ]
        }
      ],
      "source": [
        "var = 314159\n",
        "\n",
        "if(var % 2 == 0):\n",
        "  var *= 2\n",
        "else:\n",
        "  var *= 3\n",
        "  var += 1\n",
        "\n",
        "print(var)"
      ]
    },
    {
      "cell_type": "markdown",
      "source": [
        "2. Створіть змінну, що посилається на список. Якщо список пустий, додайте будь-який елемент у кінець списку. Якщо ж ні, то нічого не робіть."
      ],
      "metadata": {
        "id": "H669P0QK5BI_"
      }
    },
    {
      "cell_type": "code",
      "source": [
        "list1 = []\n",
        "\n",
        "if not list1:\n",
        "  list1.append(1)\n",
        "\n",
        "list1"
      ],
      "metadata": {
        "id": "ecWlfra45f6E",
        "colab": {
          "base_uri": "https://localhost:8080/"
        },
        "outputId": "98928ed7-9578-4021-eeca-3fb0c3e7695b"
      },
      "execution_count": null,
      "outputs": [
        {
          "output_type": "execute_result",
          "data": {
            "text/plain": [
              "[1]"
            ]
          },
          "metadata": {},
          "execution_count": 5
        }
      ]
    },
    {
      "cell_type": "markdown",
      "source": [
        "3. Створіть рядок зі своїм імʼям латинкою. Напишіть код, який би автоматизовував наступну задачу.\n",
        "\n",
        "Якщо в імені є літера \"а\"\n",
        " або \"i\", Виведіть на екран повідомлення \"A or I is in the name\".\n",
        "\n",
        "\n",
        "\n",
        "Якщо в імені є літери \"o\" та \"n\", Виведіть на екран повідомлення \"O and N is in the name\".\n",
        "\n",
        "Також якщо в імені немає літери \"о\", але є \"n\", Виведіть на екран повідомлення \"Only N is in the name\".\n",
        "\n",
        "В решті випадків виведіть на екран повідомлення \"There is no N in the name, but there might be O\".\n",
        "\n",
        "Зверніть увагу, що, наприклад, для імені \"Antonina\" буде виведено два повідомлення."
      ],
      "metadata": {
        "id": "h9Y3cMUd5h85"
      }
    },
    {
      "cell_type": "code",
      "source": [
        "my_name = \"Tymofii\"\n",
        "\n",
        "stat1 = 'a' in my_name or 'i' in my_name\n",
        "if stat1:\n",
        "  print(\"A or I is in the name\")\n",
        "\n",
        "stat2 = 'o' in my_name and 'n' in my_name\n",
        "if stat2:\n",
        "  print(\"O and N is in the name\")\n",
        "\n",
        "stat3 = not 'o' in my_name and 'n' in my_name\n",
        "if stat3:\n",
        "  print(\"Only N is in the name\")\n",
        "\n",
        "if not (stat1 or stat2 or stat3):\n",
        "  print(\"There is no N in the name, but there might be O\")"
      ],
      "metadata": {
        "id": "bUH4LUx35u52",
        "colab": {
          "base_uri": "https://localhost:8080/"
        },
        "outputId": "624550f2-fcee-4017-83e6-58ee7641fb4a"
      },
      "execution_count": null,
      "outputs": [
        {
          "output_type": "stream",
          "name": "stdout",
          "text": [
            "A or I is in the name\n"
          ]
        }
      ]
    },
    {
      "cell_type": "markdown",
      "source": [
        "# II. Comprehensions."
      ],
      "metadata": {
        "id": "wPCXJv4354cU"
      }
    },
    {
      "cell_type": "markdown",
      "source": [
        "\n",
        "\n",
        "```\n",
        "# Має бути у форматі коду\n",
        "```\n",
        "\n",
        "4. Створіть список, використовуючи if (не if-else), range та comprehension."
      ],
      "metadata": {
        "id": "jULLW5jN55Pw"
      }
    },
    {
      "cell_type": "code",
      "source": [
        "list2 = [x for x in range(0, 21) if x % 2 == 0]\n",
        "list3 = [\"Even\" if x % 2 == 0 else \"Odd\" for x in range(0,10,1)]\n",
        "list3"
      ],
      "metadata": {
        "id": "mlZalnVC6W3F",
        "colab": {
          "base_uri": "https://localhost:8080/"
        },
        "outputId": "6c0967e5-35f1-4070-c7a4-6614e8b015c6"
      },
      "execution_count": null,
      "outputs": [
        {
          "output_type": "execute_result",
          "data": {
            "text/plain": [
              "['Even', 'Odd', 'Even', 'Odd', 'Even', 'Odd', 'Even', 'Odd', 'Even', 'Odd']"
            ]
          },
          "metadata": {},
          "execution_count": 20
        }
      ]
    },
    {
      "cell_type": "markdown",
      "source": [
        "5. Створіть словник, використовуючи dict comprehension, що містить if else.\n",
        "\n",
        "---\n",
        "\n",
        "Коли слід використовувати comprehensions, а коли їх слід уникати?\n",
        "\n",
        "---\n",
        "\n"
      ],
      "metadata": {
        "id": "LqhEQ4JW6XcC"
      }
    },
    {
      "cell_type": "code",
      "source": [
        "dict1 = { x : \"Even\" if x % 2 == 0 else \"Odd\" for x in range(0, 20, 1)}\n",
        "dict1"
      ],
      "metadata": {
        "id": "1yVaFbOs6hta",
        "colab": {
          "base_uri": "https://localhost:8080/"
        },
        "outputId": "2381c929-c19d-4ae3-9adf-cf9e3dea7e85"
      },
      "execution_count": null,
      "outputs": [
        {
          "output_type": "execute_result",
          "data": {
            "text/plain": [
              "{0: 'Even',\n",
              " 1: 'Odd',\n",
              " 2: 'Even',\n",
              " 3: 'Odd',\n",
              " 4: 'Even',\n",
              " 5: 'Odd',\n",
              " 6: 'Even',\n",
              " 7: 'Odd',\n",
              " 8: 'Even',\n",
              " 9: 'Odd',\n",
              " 10: 'Even',\n",
              " 11: 'Odd',\n",
              " 12: 'Even',\n",
              " 13: 'Odd',\n",
              " 14: 'Even',\n",
              " 15: 'Odd',\n",
              " 16: 'Even',\n",
              " 17: 'Odd',\n",
              " 18: 'Even',\n",
              " 19: 'Odd'}"
            ]
          },
          "metadata": {},
          "execution_count": 19
        }
      ]
    },
    {
      "cell_type": "markdown",
      "source": [
        "\n",
        "\n",
        "Загалом будь-що створене за допомогою такої форми запису можна переписати за допомгою if i for кострукцій.\n",
        "Якщо список/словник є не складним, то краще використовувати абстрактну форму запису в силу її компактності. Якщо ж є потреба у досить містких операціях над значеннями перед додаванням у словник/список, чи є якісь складні умови, краще записати це все у звичайний спосіб, тому що так буде набагато краще читатись.\n"
      ],
      "metadata": {
        "id": "wbkzNhKq6hzz"
      }
    },
    {
      "cell_type": "markdown",
      "source": [
        "6. Створіть список з рядками та запишіть його у змінну. Створіть ще один список на основі попереднього, де кожен рядок буде містити тільки три перших заглавних символи. Наприклад: ['hello', 'i', 'dont', 'care'] -> ['HEL', 'I', 'DON', 'CAR']. Використання comprehensions обовʼязкове."
      ],
      "metadata": {
        "id": "ZlqB8G3G6lHP"
      }
    },
    {
      "cell_type": "code",
      "source": [
        "towns = [\"New York\", \"Kyiv\", \"Lviv\", \"Lutsk\", \"London\", \"Krakow\"]\n",
        "first_three = [town[:3] for town in towns]\n",
        "first_three"
      ],
      "metadata": {
        "id": "nw6rz0bR60VC",
        "colab": {
          "base_uri": "https://localhost:8080/"
        },
        "outputId": "63e2f3f0-c9fe-4e86-b1f6-845e016c4c50"
      },
      "execution_count": null,
      "outputs": [
        {
          "output_type": "execute_result",
          "data": {
            "text/plain": [
              "['New', 'Kyi', 'Lvi', 'Lut', 'Lon', 'Kra']"
            ]
          },
          "metadata": {},
          "execution_count": 22
        }
      ]
    },
    {
      "cell_type": "markdown",
      "source": [
        "# III. Цикли."
      ],
      "metadata": {
        "id": "Tj573IAH64Fz"
      }
    },
    {
      "cell_type": "markdown",
      "source": [
        "7. Продемонструйте роботу циклу while. Не можна використовувати True для запуску циклу, щоб уникнути безкінечного циклу!"
      ],
      "metadata": {
        "id": "tN_33xdE65H5"
      }
    },
    {
      "cell_type": "code",
      "source": [
        "x = 0\n",
        "\n",
        "while x < 10:\n",
        "  print(x)\n",
        "  x += 1"
      ],
      "metadata": {
        "id": "Kd9FO6yG63P5",
        "colab": {
          "base_uri": "https://localhost:8080/"
        },
        "outputId": "4b7db67a-0dbc-40a8-8715-1d33e5e21ba5"
      },
      "execution_count": 2,
      "outputs": [
        {
          "output_type": "stream",
          "name": "stdout",
          "text": [
            "0\n",
            "1\n",
            "2\n",
            "3\n",
            "4\n",
            "5\n",
            "6\n",
            "7\n",
            "8\n",
            "9\n"
          ]
        }
      ]
    },
    {
      "cell_type": "markdown",
      "source": [
        "8. Напишіть програму, яка виведе на екран непарні числа в діапазоні від 0 до 20 включно."
      ],
      "metadata": {
        "id": "x2CmfZO-7pW0"
      }
    },
    {
      "cell_type": "code",
      "source": [
        "start = 0\n",
        "end = 20\n",
        "\n",
        "for i in range(start, end + 1, 1):\n",
        "  if i % 2 == 1:\n",
        "    print(i)\n",
        "\n"
      ],
      "metadata": {
        "id": "aCSRYA6s7tkF",
        "colab": {
          "base_uri": "https://localhost:8080/"
        },
        "outputId": "6aa40582-69fc-4a8b-d96c-b5f349e19d59"
      },
      "execution_count": 5,
      "outputs": [
        {
          "output_type": "stream",
          "name": "stdout",
          "text": [
            "1\n",
            "3\n",
            "5\n",
            "7\n",
            "9\n",
            "11\n",
            "13\n",
            "15\n",
            "17\n",
            "19\n"
          ]
        }
      ]
    },
    {
      "cell_type": "markdown",
      "source": [
        "9. Створіть список з елементами булевого типу або None. Використовуючи цикли, отримайте в результаті список з кортежами, де перший елемент кортежу - індекс(ціле число), а другий елемент - відповідне значення з першого списку.\n",
        "\n",
        "Наприклад, [True, True, None, False] -> [(0, True), (1, True), (2, None), (3, False)]"
      ],
      "metadata": {
        "id": "MDWNocZD7t_B"
      }
    },
    {
      "cell_type": "code",
      "source": [
        "bool_list = [True, False, True, False, False, False]\n",
        "pairs = []\n",
        "for i in range(len(bool_list)):\n",
        "  pairs.append((i, bool_list[i]))\n",
        "pairs"
      ],
      "metadata": {
        "id": "0EUyjMdp7yfh",
        "colab": {
          "base_uri": "https://localhost:8080/"
        },
        "outputId": "57cd7850-5130-4058-df3e-3454a3519c6f"
      },
      "execution_count": 8,
      "outputs": [
        {
          "output_type": "execute_result",
          "data": {
            "text/plain": [
              "[(0, True), (1, False), (2, True), (3, False), (4, False), (5, False)]"
            ]
          },
          "metadata": {},
          "execution_count": 8
        }
      ]
    },
    {
      "cell_type": "markdown",
      "source": [
        "10. Створіть словник, де ключі - назви книжок, а значення - їхня кількість у наявності в Вашій міні-бібліотеці. Бібліотека має містити щонайменше 6 книжок (6 пар значень у словнику) і щонайбільше 10 (пар значень). Використовуючи цикли, оновіть словник (не створюйте новий) так, щоби кількість книг у наявності збільшилося на 5 кожної книги. Наприклад,\n",
        "{'It': 3, 'Fault stars': 10, 'Bible': 17, 'Psychological romance': 4, 'Harry Potter': 13} -> {'It': 8, 'Fault stars': 15, 'Bible': 22, 'Psychological romance': 9, 'Harry Potter': 18}"
      ],
      "metadata": {
        "id": "-6XUqlcG7zKs"
      }
    },
    {
      "cell_type": "code",
      "source": [
        "my_books = {\"1984\" : 10, \"Da Vinci Code\" : 5, \"Theory of Everything\" : 5, \"Economics\" : 1, \"Harry Potter\" : 2, \"Guide to the Galaxy\" : 3, \"Solaris\" : 3}\n",
        "\n",
        "for (key, value) in my_books.items():\n",
        "  my_books[key] = value + 5\n",
        "\n",
        "my_books"
      ],
      "metadata": {
        "id": "Ceoj9wwb791q",
        "colab": {
          "base_uri": "https://localhost:8080/"
        },
        "outputId": "abd92629-ff7a-4c4e-ae6d-3574f8bf1afc"
      },
      "execution_count": 13,
      "outputs": [
        {
          "output_type": "execute_result",
          "data": {
            "text/plain": [
              "{'1984': 15,\n",
              " 'Da Vinci Code': 10,\n",
              " 'Theory of Everything': 10,\n",
              " 'Economics': 6,\n",
              " 'Harry Potter': 7,\n",
              " 'Guide to the Galaxy': 8,\n",
              " 'Solaris': 8}"
            ]
          },
          "metadata": {},
          "execution_count": 13
        }
      ]
    },
    {
      "cell_type": "markdown",
      "source": [
        "11. Визначте цілочислену змінну n, що належить проміжку від 4 до 10 включно. Використовуючи цикли, виведіть в консоль наступний патерн.\n",
        "\n",
        "#\n",
        "##\n",
        "###\n",
        "####\n",
        "\n",
        "... #*n\n"
      ],
      "metadata": {
        "id": "QLzyJM288AC7"
      }
    },
    {
      "cell_type": "code",
      "source": [
        "n = 8\n",
        "\n",
        "for i in range(1, n + 1, 1):\n",
        "  print(\"#\" * i)\n"
      ],
      "metadata": {
        "id": "KOpng87s8Duz",
        "colab": {
          "base_uri": "https://localhost:8080/"
        },
        "outputId": "285603f1-b2f2-435b-8699-89b9a40aabaa"
      },
      "execution_count": 15,
      "outputs": [
        {
          "output_type": "stream",
          "name": "stdout",
          "text": [
            "#\n",
            "##\n",
            "###\n",
            "####\n",
            "#####\n",
            "######\n",
            "#######\n",
            "########\n"
          ]
        }
      ]
    },
    {
      "cell_type": "markdown",
      "source": [
        "\n",
        "12. Гра \"Нумо вгадай\".\n",
        "Розробіть просту гру, де користувач має вгадати випадкове число від 1 до 100. Для генерації випадкового числа використовуйте функцію random.randint(a, b) (тут a та b включно). Для отримання числа з консолі використовуйте функцію input(), результат якої обовʼязково явно приведіть до типу int.\n",
        "\n",
        "Підказка: використовуйте цикл while та умови if-else, щоб повідомити користувачу піказки (напр. \"Більше\", \"Менше\") поки користувач не вгадає. По завершенню виведіть кількість спроб, які знадобилися для вгадування."
      ],
      "metadata": {
        "id": "_bd-bqAT8EHn"
      }
    },
    {
      "cell_type": "code",
      "source": [
        "import random\n",
        "\n",
        "cont_bool = True      # whether continue a game or not\n",
        "nattempts = 8         # number of availiable attempts\n",
        "a = 1\n",
        "b = 100\n",
        "\n",
        "while cont_bool:\n",
        "  print(f\"Guess the number in the range of [{a}, {b}]. You have {nattempts} attempts. Good luck!\")\n",
        "  number = random.randint(a,b)\n",
        "  for i in range(nattempts):\n",
        "    user_inp = int(input())\n",
        "    if user_inp > number:\n",
        "      print(\"Your number is bigger!\")\n",
        "    elif user_inp < number:\n",
        "      print(\"Your number is smaller!\")\n",
        "    else:\n",
        "      print(\"Congrats! You have guessed the number.\")\n",
        "      break\n",
        "  else:\n",
        "    print(\"I am sorry, but you have used all your attempts. See you later!\")\n",
        "\n",
        "  print(\"Enter \\'y\\' to continue, \\'n\\' to stop.\")\n",
        "  if input() == \"n\":\n",
        "    cont_bool = False\n",
        "\n"
      ],
      "metadata": {
        "id": "IK9nnxFK8Hkl",
        "colab": {
          "base_uri": "https://localhost:8080/"
        },
        "outputId": "5e7abdcd-9c40-4d61-cc02-cda29edb95f8"
      },
      "execution_count": 20,
      "outputs": [
        {
          "name": "stdout",
          "output_type": "stream",
          "text": [
            "Guess the number in the range of [1, 100]. You have 8 attempts. Good luck!\n",
            "50\n",
            "Your number is bigger!\n",
            "25\n",
            "Your number is bigger!\n",
            "13\n",
            "Your number is bigger!\n",
            "6\n",
            "Your number is bigger!\n",
            "3\n",
            "Your number is smaller!\n",
            "5\n",
            "Congrats! You have guessed the number.\n",
            "Enter 'y' to continue, 'n' to stop.\n",
            "n\n"
          ]
        }
      ]
    },
    {
      "cell_type": "markdown",
      "source": [
        "# Вітаю! Ви велика(ий) молодець, що впоралась(вся). Похваліть себе та побалуйте чимось приємним. Я Вами пишаюся."
      ],
      "metadata": {
        "id": "PXoXWb7Z8IGi"
      }
    }
  ]
}